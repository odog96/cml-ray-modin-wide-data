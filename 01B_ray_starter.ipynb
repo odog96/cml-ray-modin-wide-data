{
 "cells": [
  {
   "cell_type": "code",
   "execution_count": 8,
   "id": "4cb5a7ee-904d-4348-92f5-44b1f2416274",
   "metadata": {
    "tags": []
   },
   "outputs": [],
   "source": [
    "# Dependency versions can be modified here if necessary\n",
    "\n",
    "# !pip install -I git+https://github.com/cloudera/cmlextensions.git --quiet\n",
    "# !pip install -I ray[client]==2.6.0 --quiet"
   ]
  },
  {
   "cell_type": "code",
   "execution_count": 9,
   "id": "d8c9513a-ea98-4b28-9fb6-ebec0a576251",
   "metadata": {
    "tags": []
   },
   "outputs": [],
   "source": [
    "import cmlextensions_custom.src.cmlextensions.ray_cluster as rc\n",
    "import os\n",
    "import cmlapi\n",
    "import json\n",
    "from pprint import pprint\n",
    "import ray"
   ]
  },
  {
   "cell_type": "code",
   "execution_count": 10,
   "id": "555e480c-577c-45c9-9f7f-1ad8d478f5ef",
   "metadata": {},
   "outputs": [],
   "source": [
    "HOST = os.getenv(\"CDSW_API_URL\").split(\":\")[0] + \"://\" + os.getenv(\"CDSW_DOMAIN\")\n",
    "USERNAME = os.getenv(\"CDSW_PROJECT_URL\").split(\"/\")[6]  # args.username  # \"vdibia\"\n",
    "API_KEY = os.getenv(\"CDSW_APIV2_KEY\")\n",
    "PROJECT_NAME = os.getenv(\"CDSW_PROJECT\")\n",
    "PROJECT_ID=os.getenv(\"CDSW_PROJECT_ID\")\n",
    "\n",
    "cml = cmlapi.default_client(url=HOST,cml_api_key=API_KEY)\n",
    "\n",
    "def set_environ(Cml,Item,Value):\n",
    "    Project=Cml.get_project(os.getenv(\"CDSW_PROJECT_ID\"))\n",
    "    if Project.environment=='':\n",
    "        Project_Environment={}\n",
    "    else:\n",
    "        Project_Environment=json.loads(Project.environment)\n",
    "    Project_Environment[Item]=Value\n",
    "    Project.environment=json.dumps(Project_Environment)\n",
    "    Cml.update_project(Project,project_id=os.getenv(\"CDSW_PROJECT_ID\"))\n",
    "\n",
    "def get_environ(Cml,Item):\n",
    "    Project=Cml.get_project(os.getenv(\"CDSW_PROJECT_ID\"))\n",
    "    Project_Environment=json.loads(Project.environment)\n",
    "    return Project_Environment[Item]"
   ]
  },
  {
   "cell_type": "code",
   "execution_count": 11,
   "id": "b9ed9c06-a247-43b2-8d5f-eee3c55c1566",
   "metadata": {},
   "outputs": [],
   "source": [
    "head_system_configs='{\"object_spilling_config\":\"{\\\"type\\\":\\\"filesystem\\\",\\\"params\\\":{\\\"directory_path\\\":\\\"/tmp\\\"}}\"}'"
   ]
  },
  {
   "cell_type": "code",
   "execution_count": 12,
   "id": "7838bd03-b39a-4088-b659-c1ab0e6a90d3",
   "metadata": {},
   "outputs": [
    {
     "name": "stdout",
     "output_type": "stream",
     "text": [
      "Starting ray head...\n",
      "Could not start ray head.\n",
      "Could not start some of the ray workloads. Ensure ray is able to run in your environment and you have the resources in your CML workspace to provision the specified amount of ray workloads.\n",
      "Set a longer timeout period if your CML workspace needs time to scale.\n",
      "Shutting down Ray cluster..\n"
     ]
    }
   ],
   "source": [
    "cluster = rc.RayCluster( num_workers=2,\n",
    "                         worker_cpu=1, worker_memory=1, worker_nvidia_gpu=0, \n",
    "                         head_cpu=2, head_memory=4, head_nvidia_gpu=0,\n",
    "                        head_system_configs=head_system_configs\n",
    "                       )\n",
    "cluster.init()\n",
    "#set_environ(cml,\"RAY_ADDRESS\",cluster.get_client_url())"
   ]
  },
  {
   "cell_type": "markdown",
   "id": "2ad54865-deba-42e4-8be2-03a85ad80526",
   "metadata": {
    "tags": []
   },
   "source": [
    "The following initializes a Ray cluster, which can be customized to the size of workload you need to run. To troubleshoot starting up the Ray cluster, refer to the README"
   ]
  },
  {
   "cell_type": "code",
   "execution_count": 13,
   "id": "47ed1f36-96de-43d6-9b29-6c566484a9c6",
   "metadata": {},
   "outputs": [
    {
     "ename": "TypeError",
     "evalue": "'NoneType' object is not subscriptable",
     "output_type": "error",
     "traceback": [
      "\u001b[0;31m---------------------------------------------------------------------------\u001b[0m",
      "\u001b[0;31mTypeError\u001b[0m                                 Traceback (most recent call last)",
      "Cell \u001b[0;32mIn[13], line 1\u001b[0m\n\u001b[0;32m----> 1\u001b[0m ray\u001b[38;5;241m.\u001b[39minit(address\u001b[38;5;241m=\u001b[39m\u001b[43mcluster\u001b[49m\u001b[38;5;241;43m.\u001b[39;49m\u001b[43mget_client_url\u001b[49m\u001b[43m(\u001b[49m\u001b[43m)\u001b[49m)\n",
      "File \u001b[0;32m~/cmlextensions_custom/src/cmlextensions/ray_cluster/ray_cluster.py:178\u001b[0m, in \u001b[0;36mRayCluster.get_client_url\u001b[0;34m(self)\u001b[0m\n\u001b[1;32m    177\u001b[0m \u001b[38;5;28;01mdef\u001b[39;00m \u001b[38;5;21mget_client_url\u001b[39m(\u001b[38;5;28mself\u001b[39m):\n\u001b[0;32m--> 178\u001b[0m     ray_head_ip \u001b[38;5;241m=\u001b[39m \u001b[38;5;28;43mself\u001b[39;49m\u001b[38;5;241;43m.\u001b[39;49m\u001b[43mray_head_details\u001b[49m\u001b[43m[\u001b[49m\u001b[38;5;124;43m'\u001b[39;49m\u001b[38;5;124;43mworkers\u001b[39;49m\u001b[38;5;124;43m'\u001b[39;49m\u001b[43m]\u001b[49m[\u001b[38;5;241m0\u001b[39m][\u001b[38;5;124m'\u001b[39m\u001b[38;5;124mip_address\u001b[39m\u001b[38;5;124m'\u001b[39m]\n\u001b[1;32m    179\u001b[0m     \u001b[38;5;28;01mreturn\u001b[39;00m \u001b[38;5;124mf\u001b[39m\u001b[38;5;124m\"\u001b[39m\u001b[38;5;124mray://\u001b[39m\u001b[38;5;132;01m{\u001b[39;00mray_head_ip\u001b[38;5;132;01m}\u001b[39;00m\u001b[38;5;124m:10001\u001b[39m\u001b[38;5;124m\"\u001b[39m\n",
      "\u001b[0;31mTypeError\u001b[0m: 'NoneType' object is not subscriptable"
     ]
    }
   ],
   "source": [
    "ray.init(address=cluster.get_client_url())"
   ]
  },
  {
   "cell_type": "code",
   "execution_count": null,
   "id": "1a073c5b-2058-427b-a131-4c45f5fa3f58",
   "metadata": {},
   "outputs": [],
   "source": [
    "import modin.pandas as pd"
   ]
  },
  {
   "cell_type": "code",
   "execution_count": null,
   "id": "7bf259b7-b1c7-432f-ac1c-e6098cddb284",
   "metadata": {},
   "outputs": [],
   "source": [
    "pd.read_csv(\"data/transactions.csv\")"
   ]
  },
  {
   "cell_type": "code",
   "execution_count": null,
   "id": "8406383b-efb1-444a-9406-a4c528ded51e",
   "metadata": {},
   "outputs": [],
   "source": [
    "import modin.pandas as pd\n",
    "import numpy as np\n",
    "df = pd.concat([pd.DataFrame(np.random.randint(0, 100, size=(2**20, 2**8))) for _ in range(40)]) # 40x2GB frames -- Working!\n",
    "df.info()"
   ]
  },
  {
   "cell_type": "code",
   "execution_count": null,
   "id": "8c102a08-72ca-4bfe-9f66-91b2794e0721",
   "metadata": {},
   "outputs": [],
   "source": []
  },
  {
   "cell_type": "code",
   "execution_count": null,
   "id": "f1a1af55-e162-4b33-a4d3-0340a55f4c67",
   "metadata": {},
   "outputs": [],
   "source": []
  },
  {
   "cell_type": "code",
   "execution_count": null,
   "id": "1621c537-7c07-4612-a4e5-14c8a2ec089c",
   "metadata": {},
   "outputs": [],
   "source": []
  },
  {
   "cell_type": "code",
   "execution_count": null,
   "id": "9b6b74ec-8788-4690-a8b6-21e5d3a9700e",
   "metadata": {
    "tags": []
   },
   "outputs": [],
   "source": [
    "#ray.shutdown()\n",
    "#cluster.terminate()"
   ]
  },
  {
   "cell_type": "code",
   "execution_count": null,
   "id": "5b63eefa-ba5e-478a-8e1f-683d8efdc83e",
   "metadata": {},
   "outputs": [],
   "source": []
  }
 ],
 "metadata": {
  "kernelspec": {
   "display_name": "Python 3 (ipykernel)",
   "language": "python",
   "name": "python3"
  },
  "language_info": {
   "codemirror_mode": {
    "name": "ipython",
    "version": 3
   },
   "file_extension": ".py",
   "mimetype": "text/x-python",
   "name": "python",
   "nbconvert_exporter": "python",
   "pygments_lexer": "ipython3",
   "version": "3.10.13"
  }
 },
 "nbformat": 4,
 "nbformat_minor": 5
}
